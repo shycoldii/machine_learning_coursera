{
 "cells": [
  {
   "cell_type": "markdown",
   "metadata": {
    "deletable": false,
    "editable": false,
    "nbgrader": {
     "checksum": "48770f8b5f5d3062d3badd51fcafc401",
     "grade": false,
     "grade_id": "cell-a6c4f74309fc2379",
     "locked": true,
     "schema_version": 1,
     "solution": false
    }
   },
   "source": [
    "# Assignment 4\n",
    "## Description\n",
    "In this assignment you must read in a file of metropolitan regions and associated sports teams from [assets/wikipedia_data.html](assets/wikipedia_data.html) and answer some questions about each metropolitan region. Each of these regions may have one or more teams from the \"Big 4\": NFL (football, in [assets/nfl.csv](assets/nfl.csv)), MLB (baseball, in [assets/mlb.csv](assets/mlb.csv)), NBA (basketball, in [assets/nba.csv](assets/nba.csv) or NHL (hockey, in [assets/nhl.csv](assets/nhl.csv)). Please keep in mind that all questions are from the perspective of the metropolitan region, and that this file is the \"source of authority\" for the location of a given sports team. Thus teams which are commonly known by a different area (e.g. \"Oakland Raiders\") need to be mapped into the metropolitan region given (e.g. San Francisco Bay Area). This will require some human data understanding outside of the data you've been given (e.g. you will have to hand-code some names, and might need to google to find out where teams are)!\n",
    "\n",
    "For each sport I would like you to answer the question: **what is the win/loss ratio's correlation with the population of the city it is in?** Win/Loss ratio refers to the number of wins over the number of wins plus the number of losses. Remember that to calculate the correlation with [`pearsonr`](https://docs.scipy.org/doc/scipy/reference/generated/scipy.stats.pearsonr.html), so you are going to send in two ordered lists of values, the populations from the wikipedia_data.html file and the win/loss ratio for a given sport in the same order. Average the win/loss ratios for those cities which have multiple teams of a single sport. Each sport is worth an equal amount in this assignment (20%\\*4=80%) of the grade for this assignment. You should only use data **from year 2018** for your analysis -- this is important!\n",
    "\n",
    "## Notes\n",
    "\n",
    "1. Do not include data about the MLS or CFL in any of the work you are doing, we're only interested in the Big 4 in this assignment.\n",
    "2. I highly suggest that you first tackle the four correlation questions in order, as they are all similar and worth the majority of grades for this assignment. This is by design!\n",
    "3. It's fair game to talk with peers about high level strategy as well as the relationship between metropolitan areas and sports teams. However, do not post code solving aspects of the assignment (including such as dictionaries mapping areas to teams, or regexes which will clean up names).\n",
    "4. There may be more teams than the assert statements test, remember to collapse multiple teams in one city into a single value!"
   ]
  },
  {
   "cell_type": "markdown",
   "metadata": {
    "deletable": false,
    "editable": false,
    "nbgrader": {
     "checksum": "369ff9ecf0ee04640574205cbc697f94",
     "grade": false,
     "grade_id": "cell-712b2b5da63d4505",
     "locked": true,
     "schema_version": 1,
     "solution": false
    }
   },
   "source": [
    "## Question 1\n",
    "For this question, calculate the win/loss ratio's correlation with the population of the city it is in for the **NHL** using **2018** data."
   ]
  },
  {
   "cell_type": "code",
   "execution_count": 59,
   "metadata": {
    "deletable": false,
    "nbgrader": {
     "checksum": "1cac4803b02502929f5b1612d48db2b5",
     "grade": false,
     "grade_id": "cell-69b16e4386e58030",
     "locked": false,
     "schema_version": 1,
     "solution": true
    }
   },
   "outputs": [
    {
     "data": {
      "text/plain": [
       "0.012486162921209907"
      ]
     },
     "execution_count": 59,
     "metadata": {},
     "output_type": "execute_result"
    }
   ],
   "source": [
    "import pandas as pd\n",
    "import numpy as np\n",
    "import scipy.stats as stats\n",
    "import re\n",
    "\n",
    "def nhl_correlation(): \n",
    "    nhl_df=pd.read_csv(\"assets/nhl.csv\")\n",
    "    nhl_df=nhl_df[nhl_df[\"year\"]==2018].dropna() #clearing nan values and checking year==2018\n",
    "    cities=pd.read_html(\"assets/wikipedia_data.html\")[1]\n",
    "    cities=cities.iloc[:-1,[0,3,5,6,7,8]]\n",
    "    #we need to create dictionary with areas names (for merging cities and nhl_df)\n",
    "    tmp_dict = {'Tampa Bay Lightning*': 'Tampa Bay Area',\n",
    "                      'Boston Bruins*': 'Boston',\n",
    "                      'Toronto Maple Leafs*': 'Toronto',\n",
    "                      'Florida Panthers': 'Miami–Fort Lauderdale',\n",
    "                      'Detroit Red Wings': 'Detroit',\n",
    "                      'Montreal Canadiens': 'Montreal',\n",
    "                      'Ottawa Senators': 'Ottawa',\n",
    "                      'Buffalo Sabres': 'Buffalo',\n",
    "                      'Washington Capitals*': 'Washington, D.C.',\n",
    "                      'Pittsburgh Penguins*': 'Pittsburgh',\n",
    "                      'Philadelphia Flyers*': 'Philadelphia',\n",
    "                      'Columbus Blue Jackets*': 'Columbus',\n",
    "                      'New Jersey Devils*': 'New York City',\n",
    "                      'Carolina Hurricanes': 'Raleigh',\n",
    "                      'New York Islanders': 'New York City',\n",
    "                      'New York Rangers': 'New York City',\n",
    "                      'Nashville Predators*': 'Nashville',\n",
    "                      'Winnipeg Jets*': 'Winnipeg',\n",
    "                      'Minnesota Wild*': 'Minneapolis–Saint Paul',\n",
    "                      'Colorado Avalanche*': 'Denver',\n",
    "                      'St. Louis Blues': 'St. Louis',\n",
    "                      'Dallas Stars': 'Dallas–Fort Worth',\n",
    "                      'Chicago Blackhawks': 'Chicago',\n",
    "                      'Vegas Golden Knights*': 'Las Vegas',\n",
    "                      'Anaheim Ducks*': 'Los Angeles',\n",
    "                      'San Jose Sharks*': 'San Francisco Bay Area',\n",
    "                      'Los Angeles Kings*': 'Los Angeles',\n",
    "                      'Calgary Flames': 'Calgary',\n",
    "                      'Edmonton Oilers': 'Edmonton',\n",
    "                      'Vancouver Canucks': 'Vancouver',\n",
    "                      'Arizona Coyotes': 'Phoenix'}\n",
    "    #clearing raw rows\n",
    "    nhl_df=nhl_df[nhl_df.apply(lambda x: x.values.tolist() not\n",
    "                               in nhl_df[nhl_df[\"W\"].str.contains(r\"[A-Za-z]\")].values.tolist(), axis=1)]\n",
    "    nhl_df=nhl_df.astype({\"W\": int,\"L\":int})\n",
    "    \n",
    "    nhl_df['WL_Ratio'] = nhl_df['W'] / (nhl_df['W'] + nhl_df['L'])\n",
    "    nhl_df['Metropolitan area']= nhl_df['team'].map(tmp_dict)\n",
    "    #group\n",
    "    win_loss_by_region = nhl_df[['WL_Ratio', 'Metropolitan area']].groupby('Metropolitan area').mean()\n",
    "    cities = cities.set_index('Metropolitan area')\n",
    "    cities.rename(columns={\"Population (2016 est.)[8]\":\"Population\"},inplace=True)\n",
    "    cities=cities[~cities[\"NHL\"].str.contains(\"—\")&~cities[\"NHL\"].str.contains(\"^\\[\")]\n",
    "    win_loss_by_region = pd.merge(win_loss_by_region, cities, how = 'left', left_index = True, right_index = True)\n",
    "    win_loss_by_region['Population'] = win_loss_by_region['Population'].astype(int)\n",
    "    population_by_region = win_loss_by_region['Population']\n",
    "    win_loss_by_region = win_loss_by_region['WL_Ratio']\n",
    "    return stats.pearsonr(population_by_region, win_loss_by_region)[0]\n",
    "nhl_correlation()"
   ]
  },
  {
   "cell_type": "code",
   "execution_count": null,
   "metadata": {
    "deletable": false,
    "editable": false,
    "nbgrader": {
     "checksum": "52a581df513c71153e105b93764cda4b",
     "grade": true,
     "grade_id": "cell-ebe0b2dfe1067e63",
     "locked": true,
     "points": 20,
     "schema_version": 1,
     "solution": false
    }
   },
   "outputs": [],
   "source": []
  },
  {
   "cell_type": "markdown",
   "metadata": {
    "deletable": false,
    "editable": false,
    "nbgrader": {
     "checksum": "988912cae4968d81473f46d783e79c16",
     "grade": false,
     "grade_id": "cell-cb964e690298b71d",
     "locked": true,
     "schema_version": 1,
     "solution": false
    }
   },
   "source": [
    "## Question 2\n",
    "For this question, calculate the win/loss ratio's correlation with the population of the city it is in for the **NBA** using **2018** data."
   ]
  },
  {
   "cell_type": "code",
   "execution_count": 58,
   "metadata": {
    "deletable": false,
    "nbgrader": {
     "checksum": "9394222aafc8ccab0a228098ba0d6010",
     "grade": false,
     "grade_id": "cell-5a5f21279e3d3572",
     "locked": false,
     "schema_version": 1,
     "solution": true
    }
   },
   "outputs": [
    {
     "data": {
      "text/plain": [
       "-0.17657160252844617"
      ]
     },
     "execution_count": 58,
     "metadata": {},
     "output_type": "execute_result"
    }
   ],
   "source": [
    "import pandas as pd\n",
    "import numpy as np\n",
    "import scipy.stats as stats\n",
    "import re\n",
    "\n",
    "\n",
    "\n",
    "def nba_correlation():\n",
    "    nba_df=pd.read_csv(\"assets/nba.csv\")\n",
    "    cities=pd.read_html(\"assets/wikipedia_data.html\")[1]\n",
    "    cities=cities.iloc[:-1,[0,3,5,6,7,8]]\n",
    "    \n",
    "    nba_df=nba_df[nba_df[\"year\"]==2018].dropna()\n",
    "    nba_df[\"team\"]=nba_df[\"team\"].str.replace(\"\\(\\d+\\)\",\"\",regex=True)\n",
    "    nba_df[\"team\"]=nba_df[\"team\"].str.replace(\"\\xa0\",\"\",regex=True)\n",
    "    nba_df[\"team\"]=nba_df[\"team\"].str.replace(\"*\",\"\",regex=True)\n",
    "    tmp_dict={}\n",
    "    tmp_lst=[\"Toronto\",\"Boston\",\"Philadelphia\",'Cleveland','Indianapolis','Miami–Fort Lauderdale','Milwaukee','Washington, D.C.',\n",
    "    'Detroit','Charlotte','New York City','New York City','Chicago','Orlando','Atlanta','Houston','San Francisco Bay Area',\n",
    "    'Portland','Oklahoma City','Salt Lake City','New Orleans','San Antonio','Minneapolis–Saint Paul','Denver','Los Angeles',\n",
    "    'Los Angeles','Sacramento','Dallas–Fort Worth','Memphis','Phoenix']\n",
    "    r=0\n",
    "    for i in nba_df[\"team\"]:\n",
    "        tmp_dict[i]=tmp_lst[r]\n",
    "        r+=1\n",
    "    nba_df=nba_df.astype({\"W\": int,\"L\":int})\n",
    "    nba_df['WL_Ratio'] = nba_df['W'] / (nba_df['W'] + nba_df['L'])\n",
    "    nba_df['Metropolitan area']= nba_df['team'].map(tmp_dict)\n",
    "    \n",
    "    win_loss_by_region = nba_df[['WL_Ratio', 'Metropolitan area']].groupby('Metropolitan area').mean()\n",
    "    cities = cities.set_index('Metropolitan area')\n",
    "    cities.rename(columns={\"Population (2016 est.)[8]\":\"Population\"},inplace=True)\n",
    "    win_loss_by_region = pd.merge(win_loss_by_region, cities, how = 'left', left_index = True, right_index = True)\n",
    "    win_loss_by_region['Population'] = win_loss_by_region['Population'].astype(int)\n",
    "    population_by_region = win_loss_by_region['Population']\n",
    "    win_loss_by_region = win_loss_by_region['WL_Ratio']\n",
    "    return stats.pearsonr(population_by_region, win_loss_by_region)[0]\n",
    "nba_correlation() \n"
   ]
  },
  {
   "cell_type": "code",
   "execution_count": null,
   "metadata": {
    "deletable": false,
    "editable": false,
    "nbgrader": {
     "checksum": "bbdeb8eb22f525a34c10dc8798324e42",
     "grade": true,
     "grade_id": "cell-e573b2b4a282b470",
     "locked": true,
     "points": 20,
     "schema_version": 1,
     "solution": false
    }
   },
   "outputs": [],
   "source": []
  },
  {
   "cell_type": "markdown",
   "metadata": {
    "deletable": false,
    "editable": false,
    "nbgrader": {
     "checksum": "1a1a5809f675ca033086422007cd73bd",
     "grade": false,
     "grade_id": "cell-96e15e4335df78f4",
     "locked": true,
     "schema_version": 1,
     "solution": false
    }
   },
   "source": [
    "## Question 3\n",
    "For this question, calculate the win/loss ratio's correlation with the population of the city it is in for the **MLB** using **2018** data."
   ]
  },
  {
   "cell_type": "code",
   "execution_count": 57,
   "metadata": {
    "deletable": false,
    "nbgrader": {
     "checksum": "27e8c0da6c9fa0dffc10488314335b6c",
     "grade": false,
     "grade_id": "cell-33b00fc3f3467b0c",
     "locked": false,
     "schema_version": 1,
     "solution": true
    }
   },
   "outputs": [
    {
     "data": {
      "text/plain": [
       "0.15027698302669307"
      ]
     },
     "execution_count": 57,
     "metadata": {},
     "output_type": "execute_result"
    }
   ],
   "source": [
    "import pandas as pd\n",
    "import numpy as np\n",
    "import scipy.stats as stats\n",
    "import re\n",
    "\n",
    "\n",
    "def mlb_correlation(): \n",
    "    mlb_df=pd.read_csv(\"assets/mlb.csv\")\n",
    "    cities=pd.read_html(\"assets/wikipedia_data.html\")[1]\n",
    "    cities=cities.iloc[:-1,[0,3,5,6,7,8]]\n",
    "    mlb_df=mlb_df[mlb_df[\"year\"]==2018].dropna()\n",
    "    tmp_dict={}\n",
    "    tmp_lst=['Boston','New York City','Tampa Bay Area','Toronto','Baltimore','Cleveland','Minneapolis–Saint Paul',\n",
    "             'Detroit','Chicago','Kansas City','Houston','San Francisco Bay Area','Seattle','Los Angeles','Dallas–Fort Worth',\n",
    "             'Atlanta','Washington, D.C.','Philadelphia','New York City','Miami–Fort Lauderdale','Milwaukee','Chicago',\n",
    "            'St. Louis','Pittsburgh','Cincinnati','Los Angeles','Denver','Phoenix','San Francisco Bay Area','San Diego']\n",
    "    r=0\n",
    "    for i in mlb_df[\"team\"]:\n",
    "        tmp_dict[i]=tmp_lst[r]\n",
    "        r+=1\n",
    "    mlb_df=mlb_df.astype({\"W\": int,\"L\":int})\n",
    "    mlb_df['WL_Ratio'] = mlb_df['W'] / (mlb_df['W'] + mlb_df['L'])\n",
    "    mlb_df['Metropolitan area']= mlb_df['team'].map(tmp_dict)\n",
    "    \n",
    "    win_loss_by_region = mlb_df[['WL_Ratio', 'Metropolitan area']].groupby('Metropolitan area').mean()\n",
    "    cities = cities.set_index('Metropolitan area')\n",
    "    cities.rename(columns={\"Population (2016 est.)[8]\":\"Population\"},inplace=True)\n",
    "    win_loss_by_region = pd.merge(win_loss_by_region, cities, how = 'left', left_index = True, right_index = True)\n",
    "    win_loss_by_region['Population'] = win_loss_by_region['Population'].astype(int)\n",
    "    population_by_region = win_loss_by_region['Population']\n",
    "    win_loss_by_region = win_loss_by_region['WL_Ratio']\n",
    "    return stats.pearsonr(population_by_region, win_loss_by_region)[0]\n",
    "mlb_correlation()"
   ]
  },
  {
   "cell_type": "code",
   "execution_count": null,
   "metadata": {
    "deletable": false,
    "editable": false,
    "nbgrader": {
     "checksum": "cda33b094ba19ccc37a481e0dd29e0bc",
     "grade": true,
     "grade_id": "cell-764d4476f425c5a2",
     "locked": true,
     "points": 20,
     "schema_version": 1,
     "solution": false
    }
   },
   "outputs": [],
   "source": []
  },
  {
   "cell_type": "markdown",
   "metadata": {
    "deletable": false,
    "editable": false,
    "nbgrader": {
     "checksum": "6977a6da9ed6d8b7a0b7e37bbeda709b",
     "grade": false,
     "grade_id": "cell-793df6c04dfb126e",
     "locked": true,
     "schema_version": 1,
     "solution": false
    }
   },
   "source": [
    "## Question 4\n",
    "For this question, calculate the win/loss ratio's correlation with the population of the city it is in for the **NFL** using **2018** data."
   ]
  },
  {
   "cell_type": "code",
   "execution_count": 56,
   "metadata": {
    "deletable": false,
    "nbgrader": {
     "checksum": "c4914ad1e119278ec2bd567c52640b66",
     "grade": false,
     "grade_id": "cell-8ccebc209aeec8d9",
     "locked": false,
     "schema_version": 1,
     "solution": true
    }
   },
   "outputs": [
    {
     "data": {
      "text/plain": [
       "0.004922112149349393"
      ]
     },
     "execution_count": 56,
     "metadata": {},
     "output_type": "execute_result"
    }
   ],
   "source": [
    "import pandas as pd\n",
    "import numpy as np\n",
    "import scipy.stats as stats\n",
    "import re\n",
    "\n",
    "\n",
    "\n",
    "def nfl_correlation(): \n",
    "    nfl_df=pd.read_csv(\"assets/nfl.csv\")\n",
    "    cities=pd.read_html(\"assets/wikipedia_data.html\")[1]\n",
    "    cities=cities.iloc[:-1,[0,3,5,6,7,8]]\n",
    "    nfl_df=nfl_df[nfl_df[\"year\"]==2018].dropna()\n",
    "    nfl_df['team'] = nfl_df['team'].str.replace('*', '', regex = True)\n",
    "    nfl_df['team'] = nfl_df['team'].str.replace('+', '', regex = True)\n",
    "    nfl_df=nfl_df[nfl_df.apply(lambda x: x.values.tolist() not\n",
    "                               in nfl_df[nfl_df[\"W\"].str.contains(r\"[A-Za-z]\")].values.tolist(), axis=1)]\n",
    "    nfl_dct = {'New England Patriots': 'Boston',\n",
    "                      'Miami Dolphins': 'Miami–Fort Lauderdale',\n",
    "                      'Buffalo Bills': 'Buffalo',\n",
    "                      'New York Jets': 'New York City',\n",
    "                      'Baltimore Ravens': 'Baltimore',\n",
    "                      'Pittsburgh Steelers': 'Pittsburgh',\n",
    "                      'Cleveland Browns': 'Cleveland',\n",
    "                      'Cincinnati Bengals': 'Cincinnati',\n",
    "                      'Houston Texans': 'Houston',\n",
    "                      'Indianapolis Colts': 'Indianapolis',\n",
    "                      'Tennessee Titans': 'Nashville',\n",
    "                      'Jacksonville Jaguars': 'Jacksonville',\n",
    "                      'Kansas City Chiefs': 'Kansas City',\n",
    "                      'Los Angeles Chargers': 'Los Angeles',\n",
    "                      'Denver Broncos': 'Denver',\n",
    "                      'Oakland Raiders': 'San Francisco Bay Area',\n",
    "                      'Dallas Cowboys': 'Dallas–Fort Worth',\n",
    "                      'Philadelphia Eagles': 'Philadelphia',\n",
    "                      'Washington Redskins': 'Washington, D.C.',\n",
    "                      'New York Giants': 'New York City',\n",
    "                      'Chicago Bears': 'Chicago',\n",
    "                      'Minnesota Vikings': 'Minneapolis–Saint Paul',\n",
    "                      'Green Bay Packers': 'Green Bay',\n",
    "                      'Detroit Lions': 'Detroit',\n",
    "                      'New Orleans Saints': 'New Orleans',\n",
    "                      'Carolina Panthers': 'Charlotte',\n",
    "                      'Atlanta Falcons': 'Atlanta',\n",
    "                      'Tampa Bay Buccaneers': 'Tampa Bay Area',\n",
    "                      'Los Angeles Rams': 'Los Angeles',\n",
    "                      'Seattle Seahawks': 'Seattle',\n",
    "                      'San Francisco 49ers': 'San Francisco Bay Area',\n",
    "                      'Arizona Cardinals': 'Phoenix'}\n",
    "\n",
    "    nfl_df['Metropolitan area'] = nfl_df['team'].map(nfl_dct)\n",
    "    nfl_df=nfl_df.astype({\"W\": int,\"L\":int})\n",
    "    nfl_df['WL_Ratio'] = nfl_df['W'] / (nfl_df['W'] + nfl_df['L'])\n",
    "    \n",
    "    win_loss_by_region = nfl_df[['WL_Ratio', 'Metropolitan area']].groupby('Metropolitan area').mean()\n",
    "    cities = cities.set_index('Metropolitan area')\n",
    "    cities.rename(columns={\"Population (2016 est.)[8]\":\"Population\"},inplace=True)\n",
    "    win_loss_by_region = pd.merge(win_loss_by_region, cities, how = 'left', left_index = True, right_index = True)\n",
    "    win_loss_by_region['Population'] = win_loss_by_region['Population'].astype(int)\n",
    "    population_by_region = win_loss_by_region['Population']\n",
    "    win_loss_by_region = win_loss_by_region['WL_Ratio']\n",
    "    return stats.pearsonr(population_by_region, win_loss_by_region)[0]\n",
    "nfl_correlation()"
   ]
  },
  {
   "cell_type": "code",
   "execution_count": null,
   "metadata": {
    "deletable": false,
    "editable": false,
    "nbgrader": {
     "checksum": "e9415d6399aa49e3a1a60813afdefa3b",
     "grade": true,
     "grade_id": "cell-de7b148b9554dbda",
     "locked": true,
     "points": 20,
     "schema_version": 1,
     "solution": false
    }
   },
   "outputs": [],
   "source": []
  },
  {
   "cell_type": "markdown",
   "metadata": {
    "deletable": false,
    "editable": false,
    "nbgrader": {
     "checksum": "b02d5cd3273f561e4ae939bb2a41740c",
     "grade": false,
     "grade_id": "cell-97b49d8639e908c4",
     "locked": true,
     "schema_version": 1,
     "solution": false
    }
   },
   "source": [
    "## Question 5\n",
    "In this question I would like you to explore the hypothesis that **given that an area has two sports teams in different sports, those teams will perform the same within their respective sports**. How I would like to see this explored is with a series of paired t-tests (so use [`ttest_rel`](https://docs.scipy.org/doc/scipy/reference/generated/scipy.stats.ttest_rel.html)) between all pairs of sports. Are there any sports where we can reject the null hypothesis? Again, average values where a sport has multiple teams in one region. Remember, you will only be including, for each sport, cities which have teams engaged in that sport, drop others as appropriate. This question is worth 20% of the grade for this assignment."
   ]
  },
  {
   "cell_type": "code",
   "execution_count": 55,
   "metadata": {
    "deletable": false,
    "nbgrader": {
     "checksum": "6d78c961eb66f8d8c81f06d33ae8f393",
     "grade": false,
     "grade_id": "cell-92f25f44b8d1179f",
     "locked": false,
     "schema_version": 1,
     "solution": true
    }
   },
   "outputs": [
    {
     "data": {
      "text/html": [
       "<div>\n",
       "<style scoped>\n",
       "    .dataframe tbody tr th:only-of-type {\n",
       "        vertical-align: middle;\n",
       "    }\n",
       "\n",
       "    .dataframe tbody tr th {\n",
       "        vertical-align: top;\n",
       "    }\n",
       "\n",
       "    .dataframe thead th {\n",
       "        text-align: right;\n",
       "    }\n",
       "</style>\n",
       "<table border=\"1\" class=\"dataframe\">\n",
       "  <thead>\n",
       "    <tr style=\"text-align: right;\">\n",
       "      <th></th>\n",
       "      <th>NFL</th>\n",
       "      <th>NBA</th>\n",
       "      <th>NHL</th>\n",
       "      <th>MLB</th>\n",
       "    </tr>\n",
       "  </thead>\n",
       "  <tbody>\n",
       "    <tr>\n",
       "      <th>NFL</th>\n",
       "      <td>NaN</td>\n",
       "      <td>0.941792</td>\n",
       "      <td>0.030883</td>\n",
       "      <td>0.802069</td>\n",
       "    </tr>\n",
       "    <tr>\n",
       "      <th>NBA</th>\n",
       "      <td>0.941792</td>\n",
       "      <td>NaN</td>\n",
       "      <td>0.022297</td>\n",
       "      <td>0.950540</td>\n",
       "    </tr>\n",
       "    <tr>\n",
       "      <th>NHL</th>\n",
       "      <td>0.030883</td>\n",
       "      <td>0.022297</td>\n",
       "      <td>NaN</td>\n",
       "      <td>0.000708</td>\n",
       "    </tr>\n",
       "    <tr>\n",
       "      <th>MLB</th>\n",
       "      <td>0.802069</td>\n",
       "      <td>0.950540</td>\n",
       "      <td>0.000708</td>\n",
       "      <td>NaN</td>\n",
       "    </tr>\n",
       "  </tbody>\n",
       "</table>\n",
       "</div>"
      ],
      "text/plain": [
       "          NFL       NBA       NHL       MLB\n",
       "NFL       NaN  0.941792  0.030883  0.802069\n",
       "NBA  0.941792       NaN  0.022297  0.950540\n",
       "NHL  0.030883  0.022297       NaN  0.000708\n",
       "MLB  0.802069  0.950540  0.000708       NaN"
      ]
     },
     "execution_count": 55,
     "metadata": {},
     "output_type": "execute_result"
    }
   ],
   "source": [
    "import pandas as pd\n",
    "import numpy as np\n",
    "import scipy.stats as stats\n",
    "import re\n",
    "\n",
    "def sports_team_performance():\n",
    "    mlb_df=pd.read_csv(\"assets/mlb.csv\")\n",
    "    nhl_df=pd.read_csv(\"assets/nhl.csv\")\n",
    "    nba_df=pd.read_csv(\"assets/nba.csv\")\n",
    "    nfl_df=pd.read_csv(\"assets/nfl.csv\")\n",
    "    cities=pd.read_html(\"assets/wikipedia_data.html\")[1]\n",
    "    cities=cities.iloc[:-1,[0,3,5,6,7,8]]\n",
    "    sports = ['NFL', 'NBA', 'NHL', 'MLB']\n",
    "    p_values = pd.DataFrame({k:np.nan for k in sports}, index=sports)\n",
    "    \n",
    "    #==========================================nhl\n",
    "    nhl_df=pd.read_csv(\"assets/nhl.csv\")\n",
    "    nhl_df=nhl_df[nhl_df[\"year\"]==2018].dropna() #clearing nan values and checking year==2018\n",
    "    cities=pd.read_html(\"assets/wikipedia_data.html\")[1]\n",
    "    cities=cities.iloc[:-1,[0,3,5,6,7,8]]\n",
    "    #we need to create dictionary with areas names (for merging cities and nhl_df)\n",
    "    tmp_dict = {'Tampa Bay Lightning*': 'Tampa Bay Area',\n",
    "                      'Boston Bruins*': 'Boston',\n",
    "                      'Toronto Maple Leafs*': 'Toronto',\n",
    "                      'Florida Panthers': 'Miami–Fort Lauderdale',\n",
    "                      'Detroit Red Wings': 'Detroit',\n",
    "                      'Montreal Canadiens': 'Montreal',\n",
    "                      'Ottawa Senators': 'Ottawa',\n",
    "                      'Buffalo Sabres': 'Buffalo',\n",
    "                      'Washington Capitals*': 'Washington, D.C.',\n",
    "                      'Pittsburgh Penguins*': 'Pittsburgh',\n",
    "                      'Philadelphia Flyers*': 'Philadelphia',\n",
    "                      'Columbus Blue Jackets*': 'Columbus',\n",
    "                      'New Jersey Devils*': 'New York City',\n",
    "                      'Carolina Hurricanes': 'Raleigh',\n",
    "                      'New York Islanders': 'New York City',\n",
    "                      'New York Rangers': 'New York City',\n",
    "                      'Nashville Predators*': 'Nashville',\n",
    "                      'Winnipeg Jets*': 'Winnipeg',\n",
    "                      'Minnesota Wild*': 'Minneapolis–Saint Paul',\n",
    "                      'Colorado Avalanche*': 'Denver',\n",
    "                      'St. Louis Blues': 'St. Louis',\n",
    "                      'Dallas Stars': 'Dallas–Fort Worth',\n",
    "                      'Chicago Blackhawks': 'Chicago',\n",
    "                      'Vegas Golden Knights*': 'Las Vegas',\n",
    "                      'Anaheim Ducks*': 'Los Angeles',\n",
    "                      'San Jose Sharks*': 'San Francisco Bay Area',\n",
    "                      'Los Angeles Kings*': 'Los Angeles',\n",
    "                      'Calgary Flames': 'Calgary',\n",
    "                      'Edmonton Oilers': 'Edmonton',\n",
    "                      'Vancouver Canucks': 'Vancouver',\n",
    "                      'Arizona Coyotes': 'Phoenix'}\n",
    "    #clearing raw rows\n",
    "    nhl_df=nhl_df[nhl_df.apply(lambda x: x.values.tolist() not\n",
    "                               in nhl_df[nhl_df[\"W\"].str.contains(r\"[A-Za-z]\")].values.tolist(), axis=1)]\n",
    "    nhl_df=nhl_df.astype({\"W\": int,\"L\":int})\n",
    "    \n",
    "    nhl_df['WL_Ratio'] = nhl_df['W'] / (nhl_df['W'] + nhl_df['L'])\n",
    "    nhl_df['Metropolitan area']= nhl_df['team'].map(tmp_dict)\n",
    "    #group\n",
    "    nhl_out = nhl_df[['WL_Ratio', 'Metropolitan area']].groupby('Metropolitan area').mean()\n",
    "    cities = cities.set_index('Metropolitan area')\n",
    "    cities.rename(columns={\"Population (2016 est.)[8]\":\"Population\"},inplace=True)\n",
    "    cities=cities[~cities[\"NHL\"].str.contains(\"—\")&~cities[\"NHL\"].str.contains(\"^\\[\")]\n",
    "    nhl_out = pd.merge(nhl_out, cities, how = 'left', left_index = True, right_index = True)\n",
    "    nhl_out['Population'] = nhl_out['Population'].astype(int)\n",
    "    nhl_out=nhl_out[['WL_Ratio', 'Population']]\n",
    "    \n",
    "    \n",
    "     #==========================================nba\n",
    "    nba_df=pd.read_csv(\"assets/nba.csv\")\n",
    "    cities=pd.read_html(\"assets/wikipedia_data.html\")[1]\n",
    "    cities=cities.iloc[:-1,[0,3,5,6,7,8]]\n",
    "    \n",
    "    nba_df=nba_df[nba_df[\"year\"]==2018].dropna()\n",
    "    nba_df[\"team\"]=nba_df[\"team\"].str.replace(\"\\(\\d+\\)\",\"\",regex=True)\n",
    "    nba_df[\"team\"]=nba_df[\"team\"].str.replace(\"\\xa0\",\"\",regex=True)\n",
    "    nba_df[\"team\"]=nba_df[\"team\"].str.replace(\"*\",\"\",regex=True)\n",
    "    tmp_dict={}\n",
    "    tmp_lst=[\"Toronto\",\"Boston\",\"Philadelphia\",'Cleveland','Indianapolis','Miami–Fort Lauderdale','Milwaukee','Washington, D.C.',\n",
    "    'Detroit','Charlotte','New York City','New York City','Chicago','Orlando','Atlanta','Houston','San Francisco Bay Area',\n",
    "    'Portland','Oklahoma City','Salt Lake City','New Orleans','San Antonio','Minneapolis–Saint Paul','Denver','Los Angeles',\n",
    "    'Los Angeles','Sacramento','Dallas–Fort Worth','Memphis','Phoenix']\n",
    "    r=0\n",
    "    for i in nba_df[\"team\"]:\n",
    "        tmp_dict[i]=tmp_lst[r]\n",
    "        r+=1\n",
    "    nba_df=nba_df.astype({\"W\": int,\"L\":int})\n",
    "    nba_df['WL_Ratio'] = nba_df['W'] / (nba_df['W'] + nba_df['L'])\n",
    "    nba_df['Metropolitan area']= nba_df['team'].map(tmp_dict)\n",
    "    \n",
    "    win_loss_by_region = nba_df[['WL_Ratio', 'Metropolitan area']].groupby('Metropolitan area').mean()\n",
    "    cities = cities.set_index('Metropolitan area')\n",
    "    cities.rename(columns={\"Population (2016 est.)[8]\":\"Population\"},inplace=True)\n",
    "    nba_out=pd.merge(win_loss_by_region, cities, how = 'left', left_index = True, right_index = True)\n",
    "    nba_out['Population'] = nba_out['Population'].astype(int)\n",
    "    nba_out=nba_out[['WL_Ratio', 'Population']]\n",
    "    \n",
    "    \n",
    "    #========================================mlb\n",
    "    \n",
    "    mlb_df=pd.read_csv(\"assets/mlb.csv\")\n",
    "    cities=pd.read_html(\"assets/wikipedia_data.html\")[1]\n",
    "    cities=cities.iloc[:-1,[0,3,5,6,7,8]]\n",
    "    mlb_df=mlb_df[mlb_df[\"year\"]==2018].dropna()\n",
    "    tmp_dict={}\n",
    "    tmp_lst=['Boston','New York City','Tampa Bay Area','Toronto','Baltimore','Cleveland','Minneapolis–Saint Paul',\n",
    "             'Detroit','Chicago','Kansas City','Houston','San Francisco Bay Area','Seattle','Los Angeles','Dallas–Fort Worth',\n",
    "             'Atlanta','Washington, D.C.','Philadelphia','New York City','Miami–Fort Lauderdale','Milwaukee','Chicago',\n",
    "            'St. Louis','Pittsburgh','Cincinnati','Los Angeles','Denver','Phoenix','San Francisco Bay Area','San Diego']\n",
    "    r=0\n",
    "    for i in mlb_df[\"team\"]:\n",
    "        tmp_dict[i]=tmp_lst[r]\n",
    "        r+=1\n",
    "    mlb_df=mlb_df.astype({\"W\": int,\"L\":int})\n",
    "    mlb_df['WL_Ratio'] = mlb_df['W'] / (mlb_df['W'] + mlb_df['L'])\n",
    "    mlb_df['Metropolitan area']= mlb_df['team'].map(tmp_dict)\n",
    "    \n",
    "    mlb_out = mlb_df[['WL_Ratio', 'Metropolitan area']].groupby('Metropolitan area').mean()\n",
    "    cities = cities.set_index('Metropolitan area')\n",
    "    cities.rename(columns={\"Population (2016 est.)[8]\":\"Population\"},inplace=True)\n",
    "    mlb_out = pd.merge(mlb_out, cities, how = 'left', left_index = True, right_index = True)\n",
    "    mlb_out['Population'] = mlb_out['Population'].astype(int)\n",
    "    mlb_out=mlb_out[['WL_Ratio', 'Population']]\n",
    "    \n",
    "    #========================================nfl\n",
    "    \n",
    "    nfl_df=pd.read_csv(\"assets/nfl.csv\")\n",
    "    cities=pd.read_html(\"assets/wikipedia_data.html\")[1]\n",
    "    cities=cities.iloc[:-1,[0,3,5,6,7,8]]\n",
    "    nfl_df=nfl_df[nfl_df[\"year\"]==2018].dropna()\n",
    "    nfl_df['team'] = nfl_df['team'].str.replace('*', '', regex = True)\n",
    "    nfl_df['team'] = nfl_df['team'].str.replace('+', '', regex = True)\n",
    "    nfl_df=nfl_df[nfl_df.apply(lambda x: x.values.tolist() not\n",
    "                               in nfl_df[nfl_df[\"W\"].str.contains(r\"[A-Za-z]\")].values.tolist(), axis=1)]\n",
    "    nfl_dct = {'New England Patriots': 'Boston',\n",
    "                      'Miami Dolphins': 'Miami–Fort Lauderdale',\n",
    "                      'Buffalo Bills': 'Buffalo',\n",
    "                      'New York Jets': 'New York City',\n",
    "                      'Baltimore Ravens': 'Baltimore',\n",
    "                      'Pittsburgh Steelers': 'Pittsburgh',\n",
    "                      'Cleveland Browns': 'Cleveland',\n",
    "                      'Cincinnati Bengals': 'Cincinnati',\n",
    "                      'Houston Texans': 'Houston',\n",
    "                      'Indianapolis Colts': 'Indianapolis',\n",
    "                      'Tennessee Titans': 'Nashville',\n",
    "                      'Jacksonville Jaguars': 'Jacksonville',\n",
    "                      'Kansas City Chiefs': 'Kansas City',\n",
    "                      'Los Angeles Chargers': 'Los Angeles',\n",
    "                      'Denver Broncos': 'Denver',\n",
    "                      'Oakland Raiders': 'San Francisco Bay Area',\n",
    "                      'Dallas Cowboys': 'Dallas–Fort Worth',\n",
    "                      'Philadelphia Eagles': 'Philadelphia',\n",
    "                      'Washington Redskins': 'Washington, D.C.',\n",
    "                      'New York Giants': 'New York City',\n",
    "                      'Chicago Bears': 'Chicago',\n",
    "                      'Minnesota Vikings': 'Minneapolis–Saint Paul',\n",
    "                      'Green Bay Packers': 'Green Bay',\n",
    "                      'Detroit Lions': 'Detroit',\n",
    "                      'New Orleans Saints': 'New Orleans',\n",
    "                      'Carolina Panthers': 'Charlotte',\n",
    "                      'Atlanta Falcons': 'Atlanta',\n",
    "                      'Tampa Bay Buccaneers': 'Tampa Bay Area',\n",
    "                      'Los Angeles Rams': 'Los Angeles',\n",
    "                      'Seattle Seahawks': 'Seattle',\n",
    "                      'San Francisco 49ers': 'San Francisco Bay Area',\n",
    "                      'Arizona Cardinals': 'Phoenix'}\n",
    "\n",
    "    nfl_df['Metropolitan area'] = nfl_df['team'].map(nfl_dct)\n",
    "    nfl_df=nfl_df.astype({\"W\": int,\"L\":int})\n",
    "    nfl_df['WL_Ratio'] = nfl_df['W'] / (nfl_df['W'] + nfl_df['L'])\n",
    "    \n",
    "    nfl_out = nfl_df[['WL_Ratio', 'Metropolitan area']].groupby('Metropolitan area').mean()\n",
    "    cities = cities.set_index('Metropolitan area')\n",
    "    cities.rename(columns={\"Population (2016 est.)[8]\":\"Population\"},inplace=True)\n",
    "    nfl_out = pd.merge(nfl_out, cities, how = 'left', left_index = True, right_index = True)\n",
    "    nfl_out['Population'] = nfl_out['Population'].astype(int)\n",
    "    nfl_out=nfl_out[['WL_Ratio', 'Population']]\n",
    "    \n",
    "    #============final\n",
    "    \n",
    "    final_output = nhl_out.rename(columns = {'WL_Ratio': 'WL_Ratio_NHL', 'Population': 'Population_NHL'})\n",
    "    \n",
    "    final_output['NHL'] = final_output['Population_NHL'].apply(lambda x: 1 if x>0 else 0)\n",
    "    final_output = pd.merge(final_output, \n",
    "                            nba_out, \n",
    "                            how = 'outer', \n",
    "                            left_index = True, \n",
    "                            right_index = True).rename(columns = {'WL_Ratio': 'WL_Ratio_NBA', \n",
    "                                                                  'Population': 'Population_NBA'})\n",
    " \n",
    "    final_output['NBA'] = final_output['Population_NBA'].apply(lambda x: 1 if x>0 else 0)\n",
    "    \n",
    "    final_output = pd.merge(final_output, \n",
    "                            mlb_out, \n",
    "                            how = 'outer', \n",
    "                            left_index = True, \n",
    "                            right_index = True).rename(columns = {'WL_Ratio': 'WL_Ratio_MLB', \n",
    "                                                                  'Population': 'Population_MLB'})\n",
    "    \n",
    "    final_output['MLB'] = final_output['Population_MLB'].apply(lambda x: 1 if x>0 else 0)\n",
    "    \n",
    "    \n",
    "    final_output = pd.merge(final_output, \n",
    "                            nfl_out, \n",
    "                            how = 'outer', \n",
    "                            left_index = True, \n",
    "                            right_index = True).rename(columns = {'WL_Ratio': 'WL_Ratio_NFL', \n",
    "                                                                  'Population': 'Population_NFL'})\n",
    "    final_output['NFL'] = final_output['Population_NFL'].apply(lambda x: 1 if x>0 else 0)\n",
    "    for sport1 in sports:\n",
    "        for sport2 in sports:\n",
    "            if sport1!=sport2:\n",
    "                test_pairs = final_output[(final_output[sport1] == 1) & (final_output[sport2] == 1)]\n",
    "                p_values.loc[sport1, sport2] = stats.ttest_rel(test_pairs['WL_Ratio_{}'.format(sport1)], \n",
    "                                                               test_pairs['WL_Ratio_{}'.format(sport2)])[1]\n",
    "    \n",
    "    #assert abs(p_values.loc[\"NBA\", \"NHL\"] - 0.02) <= 1e-2, \"The NBA-NHL p-value should be around 0.02\"\n",
    "    #assert abs(p_values.loc[\"MLB\", \"NFL\"] - 0.80) <= 1e-2, \"The MLB-NFL p-value should be around 0.80\"\n",
    "    return p_values"
   ]
  },
  {
   "cell_type": "code",
   "execution_count": null,
   "metadata": {
    "deletable": false,
    "editable": false,
    "nbgrader": {
     "checksum": "2a596ab421a45cc01168d10e8fbb8f89",
     "grade": true,
     "grade_id": "cell-fb4b9cb5ff4570a6",
     "locked": true,
     "points": 20,
     "schema_version": 1,
     "solution": false
    }
   },
   "outputs": [],
   "source": []
  }
 ],
 "metadata": {
  "coursera": {
   "schema_names": [
    "mooc_adswpy_1_v2_assignment4"
   ]
  },
  "kernelspec": {
   "display_name": "Python 3",
   "language": "python",
   "name": "python3"
  },
  "language_info": {
   "codemirror_mode": {
    "name": "ipython",
    "version": 3
   },
   "file_extension": ".py",
   "mimetype": "text/x-python",
   "name": "python",
   "nbconvert_exporter": "python",
   "pygments_lexer": "ipython3",
   "version": "3.7.3"
  }
 },
 "nbformat": 4,
 "nbformat_minor": 4
}
